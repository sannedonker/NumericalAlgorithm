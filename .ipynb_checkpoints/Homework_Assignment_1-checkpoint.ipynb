{
 "cells": [
  {
   "cell_type": "markdown",
   "metadata": {},
   "source": [
    "Please **submit this Jupyter notebook through Canvas** no later than **Monday November 4, 8:59**, before the start of the lecture.\n",
    "\n",
    "Homework is in **groups of two**, and you are expected to hand in original work. Work that is copied from another group will not be accepted."
   ]
  },
  {
   "cell_type": "markdown",
   "metadata": {},
   "source": [
    "-----\n",
    "# Exercise 0\n",
    "In the box below, write down the names + student ID of the people in your group."
   ]
  },
  {
   "cell_type": "markdown",
   "metadata": {},
   "source": [
    "Jaccobus Dijkman 12864765, Sanne Donker 10780416"
   ]
  },
  {
   "cell_type": "markdown",
   "metadata": {},
   "source": [
    "-----\n",
    "# Exercise 1\n",
    "This exercise is a variant of exercise 1.6 in the book.\n",
    "\n",
    "## (a) \n",
    "Lookup the Taylor series for $\\cos(x)$.&nbsp;&nbsp;&nbsp;&nbsp;&nbsp;&nbsp;&nbsp;&nbsp;&nbsp;&nbsp; _<font size=2>(You don't have to hand in the series expansion)</font>_\n",
    "## (b)\n",
    "What are the forward and backward errors if we approximate $\\cos(x)$ by the first **two** nonzero terms in the Taylor series at $x = 0.2$, $x = 1.0$ and $x = 2.0$?"
   ]
  },
  {
   "cell_type": "markdown",
   "metadata": {},
   "source": [
    "### (a)\n",
    "\n",
    "$\\sum_{n=0}^{\\infty}(-1)^n \\frac{x^{2n}}{(2n)!}$\n",
    "\n",
    "### (b)\n",
    "\n"
   ]
  },
  {
   "cell_type": "markdown",
   "metadata": {},
   "source": [
    "## (c)\n",
    "What are the forward and backward errors if we approximate $\\cos(x)$ by the first **three** nonzero terms in the Taylor series at $x = 0.2$, $x = 1.0$ and $x = 2.0$?"
   ]
  },
  {
   "cell_type": "markdown",
   "metadata": {},
   "source": [
    "Write your answer, using $\\LaTeX$, in this box."
   ]
  },
  {
   "cell_type": "markdown",
   "metadata": {},
   "source": [
    "## (d)\n",
    "Compute the relative condition of $x \\mapsto \\cos(x)$ at $x = 0.2$, $x=1.0$ and $x=2.0$."
   ]
  },
  {
   "cell_type": "markdown",
   "metadata": {},
   "source": [
    "Write your answer, using $\\LaTeX$, in this box."
   ]
  },
  {
   "cell_type": "markdown",
   "metadata": {},
   "source": [
    "-----\n",
    "# Exercise 2\n",
    "This is computer exercise 1.16 from the book.\n",
    "\n",
    "Write a program that sums $n$ random, **single-precision** floating-point numbers $x_i$, uniformly distributed on the interval $[0,1]$. Sum the numbers in each of the following ways (use only single-precision floating-point variables unless specifically indicated otherwise).\n",
    "\n",
    "## (a)\n",
    "Sum the numbers in the order in which they were generated, using a double-precision variable in which to accumulate the sum.\n",
    "\n",
    "Put your solution code in the box below."
   ]
  },
  {
   "cell_type": "code",
   "execution_count": 19,
   "metadata": {},
   "outputs": [],
   "source": [
    "import numpy as np\n",
    "import copy \n",
    "import time\n",
    "\n",
    "n = 10000000\n",
    "rand = np.float32(np.random.uniform(0,1,n))"
   ]
  },
  {
   "cell_type": "code",
   "execution_count": 33,
   "metadata": {},
   "outputs": [
    {
     "name": "stdout",
     "output_type": "stream",
     "text": [
      "4999770.835421953\n",
      "3.346764087677002\n"
     ]
    }
   ],
   "source": [
    "t = time.time()\n",
    "\n",
    "sum1 = 0\n",
    "\n",
    "for i in range(n):\n",
    "    x = rand[i]\n",
    "    sum1+=x\n",
    "    \n",
    "elapsed1 = time.time() - t\n",
    "print(sum1)\n",
    "print(elapsed1)"
   ]
  },
  {
   "cell_type": "markdown",
   "metadata": {},
   "source": [
    "## (b) \n",
    "Sum the numbers in the order in which they were generated, this time using a single-precision accumulator."
   ]
  },
  {
   "cell_type": "code",
   "execution_count": 34,
   "metadata": {},
   "outputs": [
    {
     "name": "stdout",
     "output_type": "stream",
     "text": [
      "5000082.5\n",
      "2.691298007965088\n"
     ]
    }
   ],
   "source": [
    "t = time.time()\n",
    "\n",
    "sum2 = np.float32(0)\n",
    "\n",
    "for i in range(n):\n",
    "    x = rand[i]\n",
    "    sum2+=x\n",
    "\n",
    "elapsed2 = time.time() - t\n",
    "print(sum2)\n",
    "print(elapsed2)"
   ]
  },
  {
   "cell_type": "markdown",
   "metadata": {},
   "source": [
    "## (c)\n",
    "Use the following _compensated summation_ algorithm (due to Kahan), again using only single precision, to sum the numbers in the order in which they were generated:\n",
    "\n",
    "$\n",
    "s = x_1\\\\\n",
    "c = 0\\\\\n",
    "\\textbf{for } i = 2 \\textbf{ to } n\\\\\n",
    "\\quad y = x_i - c\\\\\n",
    "\\quad t = s+y\\\\\n",
    "\\quad c = (t-s) - y\\\\\n",
    "\\quad s = t\\\\\n",
    "\\textbf{end}\n",
    "$"
   ]
  },
  {
   "cell_type": "code",
   "execution_count": 35,
   "metadata": {},
   "outputs": [
    {
     "name": "stdout",
     "output_type": "stream",
     "text": [
      "4999771.0\n",
      "4.968325138092041\n"
     ]
    }
   ],
   "source": [
    "t = time.time()\n",
    "s1 = rand[0]\n",
    "c1 = np.float32(0)\n",
    "\n",
    "for i in range(1,n):\n",
    "\n",
    "    y1 = rand[i] - c1\n",
    "    t1 = s1 + y1\n",
    "    c1 = (t1 - s1) - y1\n",
    "    s1 = t1\n",
    "\n",
    "elapsed3 = time.time() - t\n",
    "print(s1)\n",
    "print(elapsed3)"
   ]
  },
  {
   "cell_type": "markdown",
   "metadata": {},
   "source": [
    "## (d) \n",
    "Sum the numbers in order of increasing magnitude (this will require that the numbers be sorted\n",
    "before summing, for which you may use a library sorting routine)."
   ]
  },
  {
   "cell_type": "code",
   "execution_count": 36,
   "metadata": {},
   "outputs": [
    {
     "name": "stdout",
     "output_type": "stream",
     "text": [
      "4999771.0\n",
      "17.968675136566162\n"
     ]
    }
   ],
   "source": [
    "t = time.time()\n",
    "rand2 = sorted(rand)\n",
    "\n",
    "s2 = rand2[0]\n",
    "c2 = np.float32(0)\n",
    "\n",
    "for i in range(1,n):\n",
    "    \n",
    "    y2 = rand2[i] - c2\n",
    "    t2 = s2 + y2\n",
    "    c2 = (t2 - s2) - y2\n",
    "    s2 = t2\n",
    "\n",
    "elapsed4 = time.time() - t\n",
    "print(s2)\n",
    "print(elapsed4)"
   ]
  },
  {
   "cell_type": "markdown",
   "metadata": {},
   "source": [
    "## (e) \n",
    "Sum the numbers in order of decreasing magnitude (i.e., reverse the order of summation from part (d))."
   ]
  },
  {
   "cell_type": "code",
   "execution_count": 37,
   "metadata": {},
   "outputs": [
    {
     "name": "stdout",
     "output_type": "stream",
     "text": [
      "4999771.0\n",
      "20.168885946273804\n"
     ]
    }
   ],
   "source": [
    "t = time.time()\n",
    "rand3 = sorted(rand,reverse=True)\n",
    "\n",
    "s3 = rand3[0]\n",
    "c3 = np.float32(0)\n",
    "\n",
    "for i in range(1,n):\n",
    "    \n",
    "    y3 = rand3[i] - c3\n",
    "    t3 = s3 + y3\n",
    "    c3 = (t3 - s3) - y3\n",
    "    s3 = t3\n",
    "\n",
    "elapsed5 = time.time() - t\n",
    "print(s3)\n",
    "print(elapsed5)"
   ]
  },
  {
   "cell_type": "markdown",
   "metadata": {},
   "source": [
    "## (f)\n",
    "\n",
    "Run your program for various values of $n$ and compare the results for methods (a) through (e). You may need to use a fairly large value for $n$ to see a substantial difference. How do the methods rank in terms of accuracy, and why? How do the methods compare in cost? Can you explain why the algorithm in part (c) works?\n"
   ]
  },
  {
   "cell_type": "code",
   "execution_count": 38,
   "metadata": {},
   "outputs": [
    {
     "name": "stdout",
     "output_type": "stream",
     "text": [
      "result of summation of 10000000 elements randomly generated in the range [0,1]:\n",
      "a: 4999770.835421953\n",
      "b: 5000082.5\n",
      "c: 4999771.0\n",
      "d: 4999771.0\n",
      "e: 4999771.0\n",
      "run time of the summation algorithms:\n",
      "a: 3.346764087677002\n",
      "b: 2.691298007965088\n",
      "c: 4.968325138092041\n",
      "d: 17.968675136566162\n",
      "e: 20.168885946273804\n"
     ]
    }
   ],
   "source": [
    "print('result of summation of {} elements randomly generated in the range [0,1]:'.format(n))\n",
    "print('a: {}'.format(sum1))\n",
    "print('b: {}'.format(sum2))\n",
    "print('c: {}'.format(s1))\n",
    "print('d: {}'.format(s2))\n",
    "print('e: {}'.format(s3))\n",
    "\n",
    "print('run time of the summation algorithms:')\n",
    "print('a: {}'.format(elapsed1))\n",
    "print('b: {}'.format(elapsed2))\n",
    "print('c: {}'.format(elapsed3))\n",
    "print('d: {}'.format(elapsed4))\n",
    "print('e: {}'.format(elapsed5))"
   ]
  },
  {
   "cell_type": "markdown",
   "metadata": {},
   "source": [
    "In the above print we see the outcome of the 5 methods (from a to e) for n = 10000000.\n",
    "\n",
    "When we compare a and b, so double percision sum vs. single percision sum, we see that the outcomes are different: method a (double percision sum) is more accurate than method b (single percision sum). We suspect that this difference comes from rounding errors 'earlier' in the number when summating with single precision. When we look at the run-time of these algorithms, we see that b is faster than a. This means that the usage of a single-precision accumulator instead of a double-precision accumulator decreases the cost of the algorithm.  \n",
    "\n",
    "In c, d and e, the Kahan summation algorithm was implemented. When we compare the results of c, d and e with b, we see that the implementation of the Kahan summation algorithm increases accuracy. We suspect that this algorithm works by recovering the lost low-order digits when adding a small and a large floating point number to each other: when an element $x_i$ is added to the total sum $t$, the lost low-order digits are stored in $c$, and added to the element $x_i$ in the next round. This way, these lost digits stay in the summation. \n",
    "\n",
    "When we compare c, d and e (different orderings of Kahan's method), we see that there is no difference in accuracy between ordering in- or decreasing order (d and e), and no difference between ordering on value and ordering in the way they were generated ((d or e) and c). Ordering in increasing order would be helpful when the range in size of the elements is large. This is because the accumulated sum over a large number of small elements will be of the same order as a larger element that will be added later to the sum. This will result in a smaller number of lost low-order digits, as discussed above. In this case, however, the algorithm is used to sum over a large number of elements with small and similar values. This means that the sum will rapidly be larger than the individual elements, and the low-order digits of the elements will be lost anyway. \n",
    "\n",
    "Since you have to order the numbers, methods d and e are more costly than method c, and since you perform more operations in these three methods they are all more costly than method a and b. Thus if we order the cost decreasingly we get: (d or e), c, a, b."
   ]
  }
 ],
 "metadata": {
  "kernelspec": {
   "display_name": "Python 3",
   "language": "python",
   "name": "python3"
  },
  "language_info": {
   "codemirror_mode": {
    "name": "ipython",
    "version": 3
   },
   "file_extension": ".py",
   "mimetype": "text/x-python",
   "name": "python",
   "nbconvert_exporter": "python",
   "pygments_lexer": "ipython3",
   "version": "3.7.4"
  }
 },
 "nbformat": 4,
 "nbformat_minor": 2
}
